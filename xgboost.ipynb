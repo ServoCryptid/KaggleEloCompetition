{
 "cells": [
  {
   "cell_type": "code",
   "execution_count": 1,
   "metadata": {},
   "outputs": [],
   "source": [
    "import pandas as pd\n",
    "import numpy as np\n",
    "import xgboost as xgb\n",
    "from xgboost.sklearn import XGBRegressor\n",
    "from sklearn.model_selection import GridSearchCV \n",
    "from sklearn.metrics import mean_squared_error\n",
    "import pickle\n",
    "\n",
    "import os\n",
    "import datetime\n",
    "\n",
    "import matplotlib.pyplot as plt\n",
    "%matplotlib inline\n",
    "\n",
    "import warnings \n",
    "warnings.filterwarnings('ignore')"
   ]
  },
  {
   "cell_type": "code",
   "execution_count": 2,
   "metadata": {},
   "outputs": [],
   "source": [
    "datapath = 'data'"
   ]
  },
  {
   "cell_type": "code",
   "execution_count": 3,
   "metadata": {},
   "outputs": [],
   "source": [
    "train_df = pd.read_csv(os.path.join(datapath,'train_feats.csv'))"
   ]
  },
  {
   "cell_type": "code",
   "execution_count": 4,
   "metadata": {},
   "outputs": [
    {
     "data": {
      "text/html": [
       "<div>\n",
       "<style scoped>\n",
       "    .dataframe tbody tr th:only-of-type {\n",
       "        vertical-align: middle;\n",
       "    }\n",
       "\n",
       "    .dataframe tbody tr th {\n",
       "        vertical-align: top;\n",
       "    }\n",
       "\n",
       "    .dataframe thead th {\n",
       "        text-align: right;\n",
       "    }\n",
       "</style>\n",
       "<table border=\"1\" class=\"dataframe\">\n",
       "  <thead>\n",
       "    <tr style=\"text-align: right;\">\n",
       "      <th></th>\n",
       "      <th>hist_transactions_count</th>\n",
       "      <th>hist_most_frequent_merchant_cat</th>\n",
       "      <th>hist_most_frequent_subsector</th>\n",
       "      <th>hist_most_frequent_city</th>\n",
       "      <th>hist_most_frequent_state</th>\n",
       "      <th>hist_min_month_lag</th>\n",
       "      <th>hist_max_purchase_amount</th>\n",
       "      <th>new_transactions_count</th>\n",
       "      <th>new_most_frequent_merchant_cat</th>\n",
       "      <th>new_most_frequent_subsector</th>\n",
       "      <th>...</th>\n",
       "      <th>new_most_frequent_state_others</th>\n",
       "      <th>feature_1_2</th>\n",
       "      <th>feature_1_3</th>\n",
       "      <th>feature_1_5</th>\n",
       "      <th>feature_1_others</th>\n",
       "      <th>feature_2_1</th>\n",
       "      <th>feature_2_2</th>\n",
       "      <th>feature_2_3</th>\n",
       "      <th>feature_3_0</th>\n",
       "      <th>feature_3_1</th>\n",
       "    </tr>\n",
       "  </thead>\n",
       "  <tbody>\n",
       "    <tr>\n",
       "      <th>0</th>\n",
       "      <td>382.0</td>\n",
       "      <td>278.0</td>\n",
       "      <td>37.0</td>\n",
       "      <td>25.0</td>\n",
       "      <td>7.0</td>\n",
       "      <td>-10.0</td>\n",
       "      <td>1.817983</td>\n",
       "      <td>8.0</td>\n",
       "      <td>307.0</td>\n",
       "      <td>7.0</td>\n",
       "      <td>...</td>\n",
       "      <td>1</td>\n",
       "      <td>0</td>\n",
       "      <td>0</td>\n",
       "      <td>0</td>\n",
       "      <td>1</td>\n",
       "      <td>1</td>\n",
       "      <td>0</td>\n",
       "      <td>0</td>\n",
       "      <td>1</td>\n",
       "      <td>0</td>\n",
       "    </tr>\n",
       "    <tr>\n",
       "      <th>1</th>\n",
       "      <td>39.0</td>\n",
       "      <td>879.0</td>\n",
       "      <td>29.0</td>\n",
       "      <td>149.0</td>\n",
       "      <td>20.0</td>\n",
       "      <td>-4.0</td>\n",
       "      <td>0.379389</td>\n",
       "      <td>5.0</td>\n",
       "      <td>2.0</td>\n",
       "      <td>20.0</td>\n",
       "      <td>...</td>\n",
       "      <td>1</td>\n",
       "      <td>1</td>\n",
       "      <td>0</td>\n",
       "      <td>0</td>\n",
       "      <td>0</td>\n",
       "      <td>1</td>\n",
       "      <td>0</td>\n",
       "      <td>0</td>\n",
       "      <td>1</td>\n",
       "      <td>0</td>\n",
       "    </tr>\n",
       "    <tr>\n",
       "      <th>2</th>\n",
       "      <td>188.0</td>\n",
       "      <td>705.0</td>\n",
       "      <td>33.0</td>\n",
       "      <td>226.0</td>\n",
       "      <td>16.0</td>\n",
       "      <td>-4.0</td>\n",
       "      <td>0.153180</td>\n",
       "      <td>16.0</td>\n",
       "      <td>80.0</td>\n",
       "      <td>37.0</td>\n",
       "      <td>...</td>\n",
       "      <td>1</td>\n",
       "      <td>0</td>\n",
       "      <td>0</td>\n",
       "      <td>0</td>\n",
       "      <td>1</td>\n",
       "      <td>1</td>\n",
       "      <td>0</td>\n",
       "      <td>0</td>\n",
       "      <td>1</td>\n",
       "      <td>0</td>\n",
       "    </tr>\n",
       "    <tr>\n",
       "      <th>3</th>\n",
       "      <td>19.0</td>\n",
       "      <td>307.0</td>\n",
       "      <td>19.0</td>\n",
       "      <td>57.0</td>\n",
       "      <td>5.0</td>\n",
       "      <td>-9.0</td>\n",
       "      <td>-0.342725</td>\n",
       "      <td>1.0</td>\n",
       "      <td>307.0</td>\n",
       "      <td>19.0</td>\n",
       "      <td>...</td>\n",
       "      <td>1</td>\n",
       "      <td>0</td>\n",
       "      <td>0</td>\n",
       "      <td>1</td>\n",
       "      <td>0</td>\n",
       "      <td>0</td>\n",
       "      <td>1</td>\n",
       "      <td>0</td>\n",
       "      <td>0</td>\n",
       "      <td>1</td>\n",
       "    </tr>\n",
       "    <tr>\n",
       "      <th>4</th>\n",
       "      <td>26.0</td>\n",
       "      <td>80.0</td>\n",
       "      <td>27.0</td>\n",
       "      <td>69.0</td>\n",
       "      <td>9.0</td>\n",
       "      <td>-3.0</td>\n",
       "      <td>-0.431381</td>\n",
       "      <td>8.0</td>\n",
       "      <td>80.0</td>\n",
       "      <td>27.0</td>\n",
       "      <td>...</td>\n",
       "      <td>0</td>\n",
       "      <td>1</td>\n",
       "      <td>0</td>\n",
       "      <td>0</td>\n",
       "      <td>0</td>\n",
       "      <td>1</td>\n",
       "      <td>0</td>\n",
       "      <td>0</td>\n",
       "      <td>1</td>\n",
       "      <td>0</td>\n",
       "    </tr>\n",
       "  </tbody>\n",
       "</table>\n",
       "<p>5 rows × 51 columns</p>\n",
       "</div>"
      ],
      "text/plain": [
       "   hist_transactions_count  hist_most_frequent_merchant_cat  \\\n",
       "0                    382.0                            278.0   \n",
       "1                     39.0                            879.0   \n",
       "2                    188.0                            705.0   \n",
       "3                     19.0                            307.0   \n",
       "4                     26.0                             80.0   \n",
       "\n",
       "   hist_most_frequent_subsector  hist_most_frequent_city  \\\n",
       "0                          37.0                     25.0   \n",
       "1                          29.0                    149.0   \n",
       "2                          33.0                    226.0   \n",
       "3                          19.0                     57.0   \n",
       "4                          27.0                     69.0   \n",
       "\n",
       "   hist_most_frequent_state  hist_min_month_lag  hist_max_purchase_amount  \\\n",
       "0                       7.0               -10.0                  1.817983   \n",
       "1                      20.0                -4.0                  0.379389   \n",
       "2                      16.0                -4.0                  0.153180   \n",
       "3                       5.0                -9.0                 -0.342725   \n",
       "4                       9.0                -3.0                 -0.431381   \n",
       "\n",
       "   new_transactions_count  new_most_frequent_merchant_cat  \\\n",
       "0                     8.0                           307.0   \n",
       "1                     5.0                             2.0   \n",
       "2                    16.0                            80.0   \n",
       "3                     1.0                           307.0   \n",
       "4                     8.0                            80.0   \n",
       "\n",
       "   new_most_frequent_subsector     ...       new_most_frequent_state_others  \\\n",
       "0                          7.0     ...                                    1   \n",
       "1                         20.0     ...                                    1   \n",
       "2                         37.0     ...                                    1   \n",
       "3                         19.0     ...                                    1   \n",
       "4                         27.0     ...                                    0   \n",
       "\n",
       "   feature_1_2  feature_1_3  feature_1_5  feature_1_others  feature_2_1  \\\n",
       "0            0            0            0                 1            1   \n",
       "1            1            0            0                 0            1   \n",
       "2            0            0            0                 1            1   \n",
       "3            0            0            1                 0            0   \n",
       "4            1            0            0                 0            1   \n",
       "\n",
       "   feature_2_2  feature_2_3  feature_3_0  feature_3_1  \n",
       "0            0            0            1            0  \n",
       "1            0            0            1            0  \n",
       "2            0            0            1            0  \n",
       "3            1            0            0            1  \n",
       "4            0            0            1            0  \n",
       "\n",
       "[5 rows x 51 columns]"
      ]
     },
     "execution_count": 4,
     "metadata": {},
     "output_type": "execute_result"
    }
   ],
   "source": [
    "train_df.head()"
   ]
  },
  {
   "cell_type": "code",
   "execution_count": 5,
   "metadata": {},
   "outputs": [
    {
     "data": {
      "text/plain": [
       "Index(['hist_transactions_count', 'hist_most_frequent_merchant_cat',\n",
       "       'hist_most_frequent_subsector', 'hist_most_frequent_city',\n",
       "       'hist_most_frequent_state', 'hist_min_month_lag',\n",
       "       'hist_max_purchase_amount', 'new_transactions_count',\n",
       "       'new_most_frequent_merchant_cat', 'new_most_frequent_subsector',\n",
       "       'new_most_frequent_city', 'new_most_frequent_state',\n",
       "       'new_min_month_lag', 'new_max_purchase_amount', 'first_active_month',\n",
       "       'feature_1', 'feature_2', 'feature_3', 'target',\n",
       "       'hist_most_frequent_merchant_cat_307.0',\n",
       "       'hist_most_frequent_merchant_cat_705.0',\n",
       "       'hist_most_frequent_merchant_cat_others',\n",
       "       'hist_most_frequent_subsector_19.0',\n",
       "       'hist_most_frequent_subsector_33.0',\n",
       "       'hist_most_frequent_subsector_37.0',\n",
       "       'hist_most_frequent_subsector_others', 'hist_most_frequent_city_69.0',\n",
       "       'hist_most_frequent_city_others', 'hist_most_frequent_state_9.0',\n",
       "       'hist_most_frequent_state_others',\n",
       "       'new_most_frequent_merchant_cat_80.0',\n",
       "       'new_most_frequent_merchant_cat_278.0',\n",
       "       'new_most_frequent_merchant_cat_307.0',\n",
       "       'new_most_frequent_merchant_cat_others',\n",
       "       'new_most_frequent_subsector_19.0', 'new_most_frequent_subsector_27.0',\n",
       "       'new_most_frequent_subsector_37.0',\n",
       "       'new_most_frequent_subsector_others', 'new_most_frequent_city_69.0',\n",
       "       'new_most_frequent_city_others', 'new_most_frequent_state_9.0',\n",
       "       'new_most_frequent_state_others', 'feature_1_2', 'feature_1_3',\n",
       "       'feature_1_5', 'feature_1_others', 'feature_2_1', 'feature_2_2',\n",
       "       'feature_2_3', 'feature_3_0', 'feature_3_1'],\n",
       "      dtype='object')"
      ]
     },
     "execution_count": 5,
     "metadata": {},
     "output_type": "execute_result"
    }
   ],
   "source": [
    "train_df.columns"
   ]
  },
  {
   "cell_type": "code",
   "execution_count": 6,
   "metadata": {},
   "outputs": [
    {
     "data": {
      "text/plain": [
       "GridSearchCV(cv=5, error_score='raise',\n",
       "       estimator=XGBRegressor(base_score=0.5, booster='gbtree', colsample_bylevel=1,\n",
       "       colsample_bytree=1, gamma=0, learning_rate=0.1, max_delta_step=0,\n",
       "       max_depth=3, min_child_weight=1, missing=None, n_estimators=100,\n",
       "       n_jobs=1, nthread=None, objective='reg:linear', random_state=0,\n",
       "       reg_alpha=0, reg_lambda=1, scale_pos_weight=1, seed=None,\n",
       "       silent=True, subsample=1),\n",
       "       fit_params=None, iid=True, n_jobs=1,\n",
       "       param_grid={'learning_rate': [0.01], 'n_estimators': [100, 200, 300], 'max_depth': [3, 4, 5], 'subsample': [0.8, 0.9, 1], 'colsample_bytree': [0.3, 0.5, 0.8, 0.9, 0.95], 'gamma': [0, 1, 5]},\n",
       "       pre_dispatch='2*n_jobs', refit=True, return_train_score=True,\n",
       "       scoring=None, verbose=0)"
      ]
     },
     "execution_count": 6,
     "metadata": {},
     "output_type": "execute_result"
    }
   ],
   "source": [
    "xgb_model = XGBRegressor()\n",
    "\n",
    "test_params = { 'learning_rate': [0.01],\n",
    "'n_estimators': [100,200,300],\n",
    "'max_depth': [3,4,5],\n",
    "'subsample': [0.8, 0.9, 1],\n",
    "'colsample_bytree': [0.3, 0.5, 0.8, 0.9, 0.95],\n",
    "'gamma': [0,1,5]\n",
    "}\n",
    "\n",
    "model = GridSearchCV(cv=5, estimator = xgb_model,param_grid = test_params) #\n",
    "model.fit(train_df.drop('target',axis=1),train_df['target'])\n"
   ]
  },
  {
   "cell_type": "code",
   "execution_count": 7,
   "metadata": {},
   "outputs": [
    {
     "name": "stdout",
     "output_type": "stream",
     "text": [
      "{'colsample_bytree': 0.95, 'gamma': 0, 'learning_rate': 0.01, 'max_depth': 5, 'n_estimators': 300, 'subsample': 0.8}\n"
     ]
    }
   ],
   "source": [
    "print( model.best_params_)"
   ]
  },
  {
   "cell_type": "code",
   "execution_count": 8,
   "metadata": {},
   "outputs": [],
   "source": [
    "data_dmatrix = xgb.DMatrix(data=train_df.drop('target',axis=1),label=train_df['target'])\n",
    "params = model.best_params_\n",
    "params['objective'] = 'reg:linear'"
   ]
  },
  {
   "cell_type": "code",
   "execution_count": 9,
   "metadata": {},
   "outputs": [
    {
     "data": {
      "text/plain": [
       "{'colsample_bytree': 0.95,\n",
       " 'gamma': 0,\n",
       " 'learning_rate': 0.01,\n",
       " 'max_depth': 5,\n",
       " 'n_estimators': 300,\n",
       " 'objective': 'reg:linear',\n",
       " 'subsample': 0.8}"
      ]
     },
     "execution_count": 9,
     "metadata": {},
     "output_type": "execute_result"
    }
   ],
   "source": [
    "params"
   ]
  },
  {
   "cell_type": "raw",
   "metadata": {},
   "source": [
    "{'colsample_bytree': 0.95,\n",
    " 'gamma': 0,\n",
    " 'learning_rate': 0.01,\n",
    " 'max_depth': 5,\n",
    " 'n_estimators': 300,\n",
    " 'objective': 'reg:linear',\n",
    " 'subsample': 0.8}"
   ]
  },
  {
   "cell_type": "code",
   "execution_count": 82,
   "metadata": {},
   "outputs": [],
   "source": [
    "\n",
    "#modify params"
   ]
  },
  {
   "cell_type": "raw",
   "metadata": {},
   "source": [
    "train rmse train-rmse:3.31 and  dev rmse:3.437 with default\n",
    "train rmse train-rmse:3.32 and  dev rmse: 3.43 with lr = 0.01 and 400 estimators\n",
    "train rmse train-rmse:3.30 and  dev rmse: 3.43 with lr = 0.01 and 500 estimators\n",
    "train rmse train-rmse:3.20 and  dev rmse: 3.4386 with lr = 0.01, colsample_bytree = 0.95 and 600 estimators"
   ]
  },
  {
   "cell_type": "code",
   "execution_count": 83,
   "metadata": {},
   "outputs": [],
   "source": [
    "params['learning_rate'] = 0.01\n",
    "params['n_estimators'] = 300\n",
    "params['silent']=1\n",
    "#params['colsample_bytree'] =  0.95\n",
    "#params['gamma'] = 8\n",
    "#params['max_depth'] = 6"
   ]
  },
  {
   "cell_type": "code",
   "execution_count": 110,
   "metadata": {},
   "outputs": [
    {
     "name": "stdout",
     "output_type": "stream",
     "text": [
      "[0]\ttrain-rmse:3.62208\n",
      "Will train until train-rmse hasn't improved in 100 rounds.\n",
      "[200]\ttrain-rmse:3.40958\n",
      "[400]\ttrain-rmse:3.36868\n",
      "[600]\ttrain-rmse:3.3423\n",
      "[799]\ttrain-rmse:3.31988\n"
     ]
    }
   ],
   "source": [
    "xg_reg = xgb.train(params=params, dtrain=data_dmatrix, num_boost_round=800,early_stopping_rounds=100,\n",
    "                  evals=[ (data_dmatrix,'train')],verbose_eval=200) "
   ]
  },
  {
   "cell_type": "code",
   "execution_count": 111,
   "metadata": {},
   "outputs": [],
   "source": [
    "dev_df = pd.read_csv(os.path.join(datapath,'dev_feats.csv'))"
   ]
  },
  {
   "cell_type": "code",
   "execution_count": 112,
   "metadata": {},
   "outputs": [
    {
     "data": {
      "text/html": [
       "<div>\n",
       "<style scoped>\n",
       "    .dataframe tbody tr th:only-of-type {\n",
       "        vertical-align: middle;\n",
       "    }\n",
       "\n",
       "    .dataframe tbody tr th {\n",
       "        vertical-align: top;\n",
       "    }\n",
       "\n",
       "    .dataframe thead th {\n",
       "        text-align: right;\n",
       "    }\n",
       "</style>\n",
       "<table border=\"1\" class=\"dataframe\">\n",
       "  <thead>\n",
       "    <tr style=\"text-align: right;\">\n",
       "      <th></th>\n",
       "      <th>hist_transactions_count</th>\n",
       "      <th>hist_most_frequent_merchant_cat</th>\n",
       "      <th>hist_most_frequent_subsector</th>\n",
       "      <th>hist_most_frequent_city</th>\n",
       "      <th>hist_most_frequent_state</th>\n",
       "      <th>hist_min_month_lag</th>\n",
       "      <th>hist_max_purchase_amount</th>\n",
       "      <th>new_transactions_count</th>\n",
       "      <th>new_most_frequent_merchant_cat</th>\n",
       "      <th>new_most_frequent_subsector</th>\n",
       "      <th>...</th>\n",
       "      <th>new_most_frequent_state_others</th>\n",
       "      <th>feature_1_2</th>\n",
       "      <th>feature_1_3</th>\n",
       "      <th>feature_1_5</th>\n",
       "      <th>feature_1_others</th>\n",
       "      <th>feature_2_1</th>\n",
       "      <th>feature_2_2</th>\n",
       "      <th>feature_2_3</th>\n",
       "      <th>feature_3_0</th>\n",
       "      <th>feature_3_1</th>\n",
       "    </tr>\n",
       "  </thead>\n",
       "  <tbody>\n",
       "    <tr>\n",
       "      <th>0</th>\n",
       "      <td>215.0</td>\n",
       "      <td>705.0</td>\n",
       "      <td>33.0</td>\n",
       "      <td>233.0</td>\n",
       "      <td>9.0</td>\n",
       "      <td>-13.0</td>\n",
       "      <td>0.108101</td>\n",
       "      <td>3.0</td>\n",
       "      <td>80.0</td>\n",
       "      <td>17.0</td>\n",
       "      <td>...</td>\n",
       "      <td>0</td>\n",
       "      <td>0</td>\n",
       "      <td>1</td>\n",
       "      <td>0</td>\n",
       "      <td>0</td>\n",
       "      <td>1</td>\n",
       "      <td>0</td>\n",
       "      <td>0</td>\n",
       "      <td>0</td>\n",
       "      <td>1</td>\n",
       "    </tr>\n",
       "    <tr>\n",
       "      <th>1</th>\n",
       "      <td>13.0</td>\n",
       "      <td>661.0</td>\n",
       "      <td>8.0</td>\n",
       "      <td>69.0</td>\n",
       "      <td>9.0</td>\n",
       "      <td>-4.0</td>\n",
       "      <td>-0.285098</td>\n",
       "      <td>8.0</td>\n",
       "      <td>705.0</td>\n",
       "      <td>33.0</td>\n",
       "      <td>...</td>\n",
       "      <td>0</td>\n",
       "      <td>1</td>\n",
       "      <td>0</td>\n",
       "      <td>0</td>\n",
       "      <td>0</td>\n",
       "      <td>1</td>\n",
       "      <td>0</td>\n",
       "      <td>0</td>\n",
       "      <td>1</td>\n",
       "      <td>0</td>\n",
       "    </tr>\n",
       "    <tr>\n",
       "      <th>2</th>\n",
       "      <td>3.0</td>\n",
       "      <td>80.0</td>\n",
       "      <td>7.0</td>\n",
       "      <td>69.0</td>\n",
       "      <td>9.0</td>\n",
       "      <td>-3.0</td>\n",
       "      <td>2.630301</td>\n",
       "      <td>3.0</td>\n",
       "      <td>278.0</td>\n",
       "      <td>19.0</td>\n",
       "      <td>...</td>\n",
       "      <td>1</td>\n",
       "      <td>0</td>\n",
       "      <td>0</td>\n",
       "      <td>1</td>\n",
       "      <td>0</td>\n",
       "      <td>0</td>\n",
       "      <td>1</td>\n",
       "      <td>0</td>\n",
       "      <td>0</td>\n",
       "      <td>1</td>\n",
       "    </tr>\n",
       "    <tr>\n",
       "      <th>3</th>\n",
       "      <td>21.0</td>\n",
       "      <td>206.0</td>\n",
       "      <td>1.0</td>\n",
       "      <td>-1.0</td>\n",
       "      <td>-1.0</td>\n",
       "      <td>-4.0</td>\n",
       "      <td>-0.386422</td>\n",
       "      <td>1.0</td>\n",
       "      <td>884.0</td>\n",
       "      <td>27.0</td>\n",
       "      <td>...</td>\n",
       "      <td>1</td>\n",
       "      <td>0</td>\n",
       "      <td>0</td>\n",
       "      <td>0</td>\n",
       "      <td>1</td>\n",
       "      <td>0</td>\n",
       "      <td>1</td>\n",
       "      <td>0</td>\n",
       "      <td>1</td>\n",
       "      <td>0</td>\n",
       "    </tr>\n",
       "    <tr>\n",
       "      <th>4</th>\n",
       "      <td>203.0</td>\n",
       "      <td>278.0</td>\n",
       "      <td>37.0</td>\n",
       "      <td>25.0</td>\n",
       "      <td>7.0</td>\n",
       "      <td>-13.0</td>\n",
       "      <td>-0.439315</td>\n",
       "      <td>7.0</td>\n",
       "      <td>278.0</td>\n",
       "      <td>37.0</td>\n",
       "      <td>...</td>\n",
       "      <td>1</td>\n",
       "      <td>1</td>\n",
       "      <td>0</td>\n",
       "      <td>0</td>\n",
       "      <td>0</td>\n",
       "      <td>0</td>\n",
       "      <td>1</td>\n",
       "      <td>0</td>\n",
       "      <td>1</td>\n",
       "      <td>0</td>\n",
       "    </tr>\n",
       "  </tbody>\n",
       "</table>\n",
       "<p>5 rows × 51 columns</p>\n",
       "</div>"
      ],
      "text/plain": [
       "   hist_transactions_count  hist_most_frequent_merchant_cat  \\\n",
       "0                    215.0                            705.0   \n",
       "1                     13.0                            661.0   \n",
       "2                      3.0                             80.0   \n",
       "3                     21.0                            206.0   \n",
       "4                    203.0                            278.0   \n",
       "\n",
       "   hist_most_frequent_subsector  hist_most_frequent_city  \\\n",
       "0                          33.0                    233.0   \n",
       "1                           8.0                     69.0   \n",
       "2                           7.0                     69.0   \n",
       "3                           1.0                     -1.0   \n",
       "4                          37.0                     25.0   \n",
       "\n",
       "   hist_most_frequent_state  hist_min_month_lag  hist_max_purchase_amount  \\\n",
       "0                       9.0               -13.0                  0.108101   \n",
       "1                       9.0                -4.0                 -0.285098   \n",
       "2                       9.0                -3.0                  2.630301   \n",
       "3                      -1.0                -4.0                 -0.386422   \n",
       "4                       7.0               -13.0                 -0.439315   \n",
       "\n",
       "   new_transactions_count  new_most_frequent_merchant_cat  \\\n",
       "0                     3.0                            80.0   \n",
       "1                     8.0                           705.0   \n",
       "2                     3.0                           278.0   \n",
       "3                     1.0                           884.0   \n",
       "4                     7.0                           278.0   \n",
       "\n",
       "   new_most_frequent_subsector     ...       new_most_frequent_state_others  \\\n",
       "0                         17.0     ...                                    0   \n",
       "1                         33.0     ...                                    0   \n",
       "2                         19.0     ...                                    1   \n",
       "3                         27.0     ...                                    1   \n",
       "4                         37.0     ...                                    1   \n",
       "\n",
       "   feature_1_2  feature_1_3  feature_1_5  feature_1_others  feature_2_1  \\\n",
       "0            0            1            0                 0            1   \n",
       "1            1            0            0                 0            1   \n",
       "2            0            0            1                 0            0   \n",
       "3            0            0            0                 1            0   \n",
       "4            1            0            0                 0            0   \n",
       "\n",
       "   feature_2_2  feature_2_3  feature_3_0  feature_3_1  \n",
       "0            0            0            0            1  \n",
       "1            0            0            1            0  \n",
       "2            1            0            0            1  \n",
       "3            1            0            1            0  \n",
       "4            1            0            1            0  \n",
       "\n",
       "[5 rows x 51 columns]"
      ]
     },
     "execution_count": 112,
     "metadata": {},
     "output_type": "execute_result"
    }
   ],
   "source": [
    "dev_df.head()"
   ]
  },
  {
   "cell_type": "code",
   "execution_count": 113,
   "metadata": {},
   "outputs": [],
   "source": [
    "dev_dmatrix = xgb.DMatrix(data=dev_df.drop('target',axis=1))\n",
    "y =dev_df['target']"
   ]
  },
  {
   "cell_type": "code",
   "execution_count": 114,
   "metadata": {},
   "outputs": [],
   "source": [
    " y_dev = xg_reg.predict(dev_dmatrix)"
   ]
  },
  {
   "cell_type": "code",
   "execution_count": 115,
   "metadata": {},
   "outputs": [
    {
     "data": {
      "text/plain": [
       "array([-0.91751444, -1.2905118 , -0.36455244, ...,  0.20375445,\n",
       "       -0.4160422 , -0.1665104 ], dtype=float32)"
      ]
     },
     "execution_count": 115,
     "metadata": {},
     "output_type": "execute_result"
    }
   ],
   "source": [
    "y_dev"
   ]
  },
  {
   "cell_type": "code",
   "execution_count": 116,
   "metadata": {},
   "outputs": [
    {
     "data": {
      "text/plain": [
       "3.4376224231588624"
      ]
     },
     "execution_count": 116,
     "metadata": {},
     "output_type": "execute_result"
    }
   ],
   "source": [
    "np.sqrt(mean_squared_error(y_dev,y))"
   ]
  },
  {
   "cell_type": "code",
   "execution_count": 117,
   "metadata": {},
   "outputs": [],
   "source": [
    "dev_df['xgb'] = y_dev"
   ]
  },
  {
   "cell_type": "code",
   "execution_count": 118,
   "metadata": {},
   "outputs": [],
   "source": [
    "dev_df.to_csv(os.path.join(datapath,'dev.xgb'),index=False)"
   ]
  },
  {
   "cell_type": "code",
   "execution_count": 119,
   "metadata": {},
   "outputs": [],
   "source": [
    " y_train = xg_reg.predict(data_dmatrix)"
   ]
  },
  {
   "cell_type": "code",
   "execution_count": 120,
   "metadata": {},
   "outputs": [
    {
     "data": {
      "text/plain": [
       "3.3198783423279083"
      ]
     },
     "execution_count": 120,
     "metadata": {},
     "output_type": "execute_result"
    }
   ],
   "source": [
    "np.sqrt(mean_squared_error(y_train,train_df['target']))"
   ]
  },
  {
   "cell_type": "code",
   "execution_count": 121,
   "metadata": {},
   "outputs": [],
   "source": [
    "train_df['xgb'] = y_train\n",
    "train_df.to_csv(os.path.join(datapath,'train_xgb.csv'),index=False)"
   ]
  },
  {
   "cell_type": "code",
   "execution_count": 122,
   "metadata": {},
   "outputs": [],
   "source": [
    "val_df = pd.read_csv(os.path.join(datapath,'val_feats.csv'))\n",
    "val_dmatrix = xgb.DMatrix(data=val_df.drop('target',axis=1))\n",
    "y_val = xg_reg.predict(val_dmatrix)\n",
    "val_df['xgb'] = y_val\n",
    "val_df.to_csv(os.path.join(datapath,'val_xgb.csv'),index=False)"
   ]
  },
  {
   "cell_type": "code",
   "execution_count": 123,
   "metadata": {},
   "outputs": [
    {
     "data": {
      "text/html": [
       "<div>\n",
       "<style scoped>\n",
       "    .dataframe tbody tr th:only-of-type {\n",
       "        vertical-align: middle;\n",
       "    }\n",
       "\n",
       "    .dataframe tbody tr th {\n",
       "        vertical-align: top;\n",
       "    }\n",
       "\n",
       "    .dataframe thead th {\n",
       "        text-align: right;\n",
       "    }\n",
       "</style>\n",
       "<table border=\"1\" class=\"dataframe\">\n",
       "  <thead>\n",
       "    <tr style=\"text-align: right;\">\n",
       "      <th></th>\n",
       "      <th>hist_transactions_count</th>\n",
       "      <th>hist_most_frequent_merchant_cat</th>\n",
       "      <th>hist_most_frequent_subsector</th>\n",
       "      <th>hist_most_frequent_city</th>\n",
       "      <th>hist_most_frequent_state</th>\n",
       "      <th>hist_min_month_lag</th>\n",
       "      <th>hist_max_purchase_amount</th>\n",
       "      <th>new_transactions_count</th>\n",
       "      <th>new_most_frequent_merchant_cat</th>\n",
       "      <th>new_most_frequent_subsector</th>\n",
       "      <th>...</th>\n",
       "      <th>feature_1_2</th>\n",
       "      <th>feature_1_3</th>\n",
       "      <th>feature_1_5</th>\n",
       "      <th>feature_1_others</th>\n",
       "      <th>feature_2_1</th>\n",
       "      <th>feature_2_2</th>\n",
       "      <th>feature_2_3</th>\n",
       "      <th>feature_3_0</th>\n",
       "      <th>feature_3_1</th>\n",
       "      <th>xgb</th>\n",
       "    </tr>\n",
       "  </thead>\n",
       "  <tbody>\n",
       "    <tr>\n",
       "      <th>0</th>\n",
       "      <td>234.0</td>\n",
       "      <td>307.0</td>\n",
       "      <td>34.0</td>\n",
       "      <td>8.0</td>\n",
       "      <td>12.0</td>\n",
       "      <td>-13.0</td>\n",
       "      <td>-0.329727</td>\n",
       "      <td>2.0</td>\n",
       "      <td>80.0</td>\n",
       "      <td>37.0</td>\n",
       "      <td>...</td>\n",
       "      <td>0</td>\n",
       "      <td>1</td>\n",
       "      <td>0</td>\n",
       "      <td>0</td>\n",
       "      <td>0</td>\n",
       "      <td>0</td>\n",
       "      <td>1</td>\n",
       "      <td>0</td>\n",
       "      <td>1</td>\n",
       "      <td>-0.098036</td>\n",
       "    </tr>\n",
       "    <tr>\n",
       "      <th>1</th>\n",
       "      <td>17.0</td>\n",
       "      <td>454.0</td>\n",
       "      <td>39.0</td>\n",
       "      <td>-1.0</td>\n",
       "      <td>-1.0</td>\n",
       "      <td>-4.0</td>\n",
       "      <td>1.311724</td>\n",
       "      <td>4.0</td>\n",
       "      <td>34.0</td>\n",
       "      <td>20.0</td>\n",
       "      <td>...</td>\n",
       "      <td>0</td>\n",
       "      <td>0</td>\n",
       "      <td>1</td>\n",
       "      <td>0</td>\n",
       "      <td>1</td>\n",
       "      <td>0</td>\n",
       "      <td>0</td>\n",
       "      <td>0</td>\n",
       "      <td>1</td>\n",
       "      <td>-1.381747</td>\n",
       "    </tr>\n",
       "    <tr>\n",
       "      <th>2</th>\n",
       "      <td>12.0</td>\n",
       "      <td>427.0</td>\n",
       "      <td>27.0</td>\n",
       "      <td>25.0</td>\n",
       "      <td>7.0</td>\n",
       "      <td>-5.0</td>\n",
       "      <td>-0.445175</td>\n",
       "      <td>3.0</td>\n",
       "      <td>87.0</td>\n",
       "      <td>21.0</td>\n",
       "      <td>...</td>\n",
       "      <td>1</td>\n",
       "      <td>0</td>\n",
       "      <td>0</td>\n",
       "      <td>0</td>\n",
       "      <td>0</td>\n",
       "      <td>1</td>\n",
       "      <td>0</td>\n",
       "      <td>1</td>\n",
       "      <td>0</td>\n",
       "      <td>-1.356377</td>\n",
       "    </tr>\n",
       "    <tr>\n",
       "      <th>3</th>\n",
       "      <td>24.0</td>\n",
       "      <td>222.0</td>\n",
       "      <td>21.0</td>\n",
       "      <td>341.0</td>\n",
       "      <td>15.0</td>\n",
       "      <td>-9.0</td>\n",
       "      <td>-0.476461</td>\n",
       "      <td>6.0</td>\n",
       "      <td>705.0</td>\n",
       "      <td>33.0</td>\n",
       "      <td>...</td>\n",
       "      <td>0</td>\n",
       "      <td>1</td>\n",
       "      <td>0</td>\n",
       "      <td>0</td>\n",
       "      <td>0</td>\n",
       "      <td>0</td>\n",
       "      <td>1</td>\n",
       "      <td>0</td>\n",
       "      <td>1</td>\n",
       "      <td>-1.697394</td>\n",
       "    </tr>\n",
       "    <tr>\n",
       "      <th>4</th>\n",
       "      <td>29.0</td>\n",
       "      <td>307.0</td>\n",
       "      <td>19.0</td>\n",
       "      <td>331.0</td>\n",
       "      <td>16.0</td>\n",
       "      <td>-3.0</td>\n",
       "      <td>2.964641</td>\n",
       "      <td>4.0</td>\n",
       "      <td>278.0</td>\n",
       "      <td>29.0</td>\n",
       "      <td>...</td>\n",
       "      <td>0</td>\n",
       "      <td>0</td>\n",
       "      <td>0</td>\n",
       "      <td>1</td>\n",
       "      <td>0</td>\n",
       "      <td>1</td>\n",
       "      <td>0</td>\n",
       "      <td>1</td>\n",
       "      <td>0</td>\n",
       "      <td>0.424088</td>\n",
       "    </tr>\n",
       "  </tbody>\n",
       "</table>\n",
       "<p>5 rows × 52 columns</p>\n",
       "</div>"
      ],
      "text/plain": [
       "   hist_transactions_count  hist_most_frequent_merchant_cat  \\\n",
       "0                    234.0                            307.0   \n",
       "1                     17.0                            454.0   \n",
       "2                     12.0                            427.0   \n",
       "3                     24.0                            222.0   \n",
       "4                     29.0                            307.0   \n",
       "\n",
       "   hist_most_frequent_subsector  hist_most_frequent_city  \\\n",
       "0                          34.0                      8.0   \n",
       "1                          39.0                     -1.0   \n",
       "2                          27.0                     25.0   \n",
       "3                          21.0                    341.0   \n",
       "4                          19.0                    331.0   \n",
       "\n",
       "   hist_most_frequent_state  hist_min_month_lag  hist_max_purchase_amount  \\\n",
       "0                      12.0               -13.0                 -0.329727   \n",
       "1                      -1.0                -4.0                  1.311724   \n",
       "2                       7.0                -5.0                 -0.445175   \n",
       "3                      15.0                -9.0                 -0.476461   \n",
       "4                      16.0                -3.0                  2.964641   \n",
       "\n",
       "   new_transactions_count  new_most_frequent_merchant_cat  \\\n",
       "0                     2.0                            80.0   \n",
       "1                     4.0                            34.0   \n",
       "2                     3.0                            87.0   \n",
       "3                     6.0                           705.0   \n",
       "4                     4.0                           278.0   \n",
       "\n",
       "   new_most_frequent_subsector    ...     feature_1_2  feature_1_3  \\\n",
       "0                         37.0    ...               0            1   \n",
       "1                         20.0    ...               0            0   \n",
       "2                         21.0    ...               1            0   \n",
       "3                         33.0    ...               0            1   \n",
       "4                         29.0    ...               0            0   \n",
       "\n",
       "   feature_1_5  feature_1_others  feature_2_1  feature_2_2  feature_2_3  \\\n",
       "0            0                 0            0            0            1   \n",
       "1            1                 0            1            0            0   \n",
       "2            0                 0            0            1            0   \n",
       "3            0                 0            0            0            1   \n",
       "4            0                 1            0            1            0   \n",
       "\n",
       "   feature_3_0  feature_3_1       xgb  \n",
       "0            0            1 -0.098036  \n",
       "1            0            1 -1.381747  \n",
       "2            1            0 -1.356377  \n",
       "3            0            1 -1.697394  \n",
       "4            1            0  0.424088  \n",
       "\n",
       "[5 rows x 52 columns]"
      ]
     },
     "execution_count": 123,
     "metadata": {},
     "output_type": "execute_result"
    }
   ],
   "source": [
    "val_df.head()"
   ]
  },
  {
   "cell_type": "code",
   "execution_count": 124,
   "metadata": {},
   "outputs": [],
   "source": [
    "#pickle.dump( xg_reg, open(\"xgboost.pickle.dat\", \"wb\"))"
   ]
  },
  {
   "cell_type": "code",
   "execution_count": 125,
   "metadata": {},
   "outputs": [],
   "source": [
    "#xg_reg = pickle.load(open(\"xgboost.pickle.dat\", \"rb\"))"
   ]
  },
  {
   "cell_type": "code",
   "execution_count": 126,
   "metadata": {},
   "outputs": [],
   "source": [
    "test_df_feats = pd.read_csv(os.path.join(datapath,'test_feats.csv'))\n"
   ]
  },
  {
   "cell_type": "code",
   "execution_count": 127,
   "metadata": {},
   "outputs": [
    {
     "data": {
      "text/plain": [
       "{'target', 'xgb'}"
      ]
     },
     "execution_count": 127,
     "metadata": {},
     "output_type": "execute_result"
    }
   ],
   "source": [
    "set(train_df.columns) - set(test_df_feats.columns)"
   ]
  },
  {
   "cell_type": "code",
   "execution_count": 128,
   "metadata": {},
   "outputs": [
    {
     "data": {
      "text/plain": [
       "set()"
      ]
     },
     "execution_count": 128,
     "metadata": {},
     "output_type": "execute_result"
    }
   ],
   "source": [
    "set(test_df_feats.columns) - set(train_df.columns) "
   ]
  },
  {
   "cell_type": "code",
   "execution_count": 129,
   "metadata": {},
   "outputs": [],
   "source": [
    "test_dmatrix = xgb.DMatrix(data=test_df_feats)\n",
    "y_test = xg_reg.predict(test_dmatrix)\n",
    "#test_df_['xgb'] = y_test\n",
    "#test_df.to_csv(os.path.join(datapath,'test_xgb.csv'),index=False)"
   ]
  },
  {
   "cell_type": "markdown",
   "metadata": {},
   "source": [
    "predict submission"
   ]
  },
  {
   "cell_type": "code",
   "execution_count": 130,
   "metadata": {},
   "outputs": [],
   "source": [
    "test_df = pd.read_csv(os.path.join(datapath,'test.csv'))"
   ]
  },
  {
   "cell_type": "code",
   "execution_count": 131,
   "metadata": {},
   "outputs": [
    {
     "data": {
      "text/html": [
       "<div>\n",
       "<style scoped>\n",
       "    .dataframe tbody tr th:only-of-type {\n",
       "        vertical-align: middle;\n",
       "    }\n",
       "\n",
       "    .dataframe tbody tr th {\n",
       "        vertical-align: top;\n",
       "    }\n",
       "\n",
       "    .dataframe thead th {\n",
       "        text-align: right;\n",
       "    }\n",
       "</style>\n",
       "<table border=\"1\" class=\"dataframe\">\n",
       "  <thead>\n",
       "    <tr style=\"text-align: right;\">\n",
       "      <th></th>\n",
       "      <th>first_active_month</th>\n",
       "      <th>card_id</th>\n",
       "      <th>feature_1</th>\n",
       "      <th>feature_2</th>\n",
       "      <th>feature_3</th>\n",
       "    </tr>\n",
       "  </thead>\n",
       "  <tbody>\n",
       "    <tr>\n",
       "      <th>0</th>\n",
       "      <td>2017-04</td>\n",
       "      <td>C_ID_0ab67a22ab</td>\n",
       "      <td>3</td>\n",
       "      <td>3</td>\n",
       "      <td>1</td>\n",
       "    </tr>\n",
       "    <tr>\n",
       "      <th>1</th>\n",
       "      <td>2017-01</td>\n",
       "      <td>C_ID_130fd0cbdd</td>\n",
       "      <td>2</td>\n",
       "      <td>3</td>\n",
       "      <td>0</td>\n",
       "    </tr>\n",
       "    <tr>\n",
       "      <th>2</th>\n",
       "      <td>2017-08</td>\n",
       "      <td>C_ID_b709037bc5</td>\n",
       "      <td>5</td>\n",
       "      <td>1</td>\n",
       "      <td>1</td>\n",
       "    </tr>\n",
       "    <tr>\n",
       "      <th>3</th>\n",
       "      <td>2017-12</td>\n",
       "      <td>C_ID_d27d835a9f</td>\n",
       "      <td>2</td>\n",
       "      <td>1</td>\n",
       "      <td>0</td>\n",
       "    </tr>\n",
       "    <tr>\n",
       "      <th>4</th>\n",
       "      <td>2015-12</td>\n",
       "      <td>C_ID_2b5e3df5c2</td>\n",
       "      <td>5</td>\n",
       "      <td>1</td>\n",
       "      <td>1</td>\n",
       "    </tr>\n",
       "  </tbody>\n",
       "</table>\n",
       "</div>"
      ],
      "text/plain": [
       "  first_active_month          card_id  feature_1  feature_2  feature_3\n",
       "0            2017-04  C_ID_0ab67a22ab          3          3          1\n",
       "1            2017-01  C_ID_130fd0cbdd          2          3          0\n",
       "2            2017-08  C_ID_b709037bc5          5          1          1\n",
       "3            2017-12  C_ID_d27d835a9f          2          1          0\n",
       "4            2015-12  C_ID_2b5e3df5c2          5          1          1"
      ]
     },
     "execution_count": 131,
     "metadata": {},
     "output_type": "execute_result"
    }
   ],
   "source": [
    "test_df.head()"
   ]
  },
  {
   "cell_type": "code",
   "execution_count": 132,
   "metadata": {},
   "outputs": [],
   "source": [
    "test_df['target'] = y_test"
   ]
  },
  {
   "cell_type": "code",
   "execution_count": 133,
   "metadata": {},
   "outputs": [],
   "source": [
    "test_df.drop(['first_active_month','feature_1','feature_2','feature_3'],axis=1, inplace=True)"
   ]
  },
  {
   "cell_type": "code",
   "execution_count": 134,
   "metadata": {},
   "outputs": [],
   "source": [
    "test_df.to_csv(os.path.join(datapath,'test_xgb.csv'),index=False)"
   ]
  },
  {
   "cell_type": "code",
   "execution_count": null,
   "metadata": {},
   "outputs": [],
   "source": []
  }
 ],
 "metadata": {
  "kernelspec": {
   "display_name": "Python 3",
   "language": "python",
   "name": "python3"
  },
  "language_info": {
   "codemirror_mode": {
    "name": "ipython",
    "version": 3
   },
   "file_extension": ".py",
   "mimetype": "text/x-python",
   "name": "python",
   "nbconvert_exporter": "python",
   "pygments_lexer": "ipython3",
   "version": "3.6.7"
  }
 },
 "nbformat": 4,
 "nbformat_minor": 2
}
